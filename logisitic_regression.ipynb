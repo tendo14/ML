{
 "cells": [
  {
   "cell_type": "markdown",
   "id": "392dc4de",
   "metadata": {},
   "source": [
    "Logistic Regression on the authenticity of bank notes dataset. The dataset can be found here https://archive.ics.uci.edu/ml/datasets/banknote+authentication. "
   ]
  },
  {
   "cell_type": "code",
   "execution_count": 1,
   "id": "9cfb2be1",
   "metadata": {},
   "outputs": [],
   "source": [
    "import pandas as pd\n",
    "import numpy as np"
   ]
  },
  {
   "cell_type": "code",
   "execution_count": 2,
   "id": "49b7a731",
   "metadata": {},
   "outputs": [],
   "source": [
    "df = pd.read_csv(\"C:/Users/adity/Desktop/python/data_banknote_authentication.txt\", header=None, names=['f1', 'f2', 'f3', 'f4', 'label'])"
   ]
  },
  {
   "cell_type": "code",
   "execution_count": 3,
   "id": "7a56bae9",
   "metadata": {},
   "outputs": [],
   "source": [
    "import torch \n",
    "import torch.nn as nn"
   ]
  },
  {
   "cell_type": "code",
   "execution_count": 30,
   "id": "a5b843a0",
   "metadata": {},
   "outputs": [],
   "source": [
    "X = df[['f1', 'f2', 'f3', 'f4']]\n",
    "y = df['label']"
   ]
  },
  {
   "cell_type": "code",
   "execution_count": 31,
   "id": "80c28a07",
   "metadata": {},
   "outputs": [],
   "source": [
    "from sklearn.preprocessing import StandardScaler\n",
    "\n",
    "scaler = StandardScaler()\n",
    "X = scaler.fit_transform(X)\n",
    "\n",
    "y = y.values\n"
   ]
  },
  {
   "cell_type": "code",
   "execution_count": 32,
   "id": "b664a362",
   "metadata": {},
   "outputs": [],
   "source": [
    "from sklearn.model_selection import train_test_split\n",
    "\n",
    "X_train, X_test, y_train, y_test = train_test_split(X, y, test_size=0.2, random_state=1234)\n"
   ]
  },
  {
   "cell_type": "code",
   "execution_count": 35,
   "id": "d7d44891",
   "metadata": {},
   "outputs": [
    {
     "name": "stdout",
     "output_type": "stream",
     "text": [
      "float64\n"
     ]
    },
    {
     "data": {
      "text/plain": [
       "(1097, 4)"
      ]
     },
     "execution_count": 35,
     "metadata": {},
     "output_type": "execute_result"
    }
   ],
   "source": [
    "print(X_train.dtype)\n",
    "X_train.shape"
   ]
  },
  {
   "cell_type": "markdown",
   "id": "8afe2a4c",
   "metadata": {},
   "source": [
    "Converting the float64 datatypes to float32."
   ]
  },
  {
   "cell_type": "code",
   "execution_count": 36,
   "id": "c455b5bd",
   "metadata": {},
   "outputs": [],
   "source": [
    "X_train = torch.tensor(X_train, dtype=torch.float32)\n",
    "X_test = torch.tensor(X_test, dtype=torch.float32)\n",
    "y_train = torch.tensor(y_train, dtype=torch.float32).view(-1, 1)\n",
    "y_test = torch.tensor(y_test, dtype=torch.float32).view(-1, 1)\n",
    "\n"
   ]
  },
  {
   "cell_type": "markdown",
   "id": "3b3f5c65",
   "metadata": {},
   "source": [
    "Creating the model."
   ]
  },
  {
   "cell_type": "code",
   "execution_count": 37,
   "id": "5a2f9ba2",
   "metadata": {},
   "outputs": [],
   "source": [
    "class LogisticRegression(nn.Module):\n",
    "    def __init__(self, n_input_features):\n",
    "        super().__init__()\n",
    "        self.linear = nn.Linear(n_input_features, 1)\n",
    "    \n",
    "    def forward(self, x):\n",
    "        return torch.sigmoid(self.linear(x))"
   ]
  },
  {
   "cell_type": "code",
   "execution_count": 41,
   "id": "b4bc2a61",
   "metadata": {},
   "outputs": [
    {
     "data": {
      "text/plain": [
       "torch.Size([1097, 4])"
      ]
     },
     "execution_count": 41,
     "metadata": {},
     "output_type": "execute_result"
    }
   ],
   "source": [
    "n_input = X_train.shape[1]\n",
    "model = LogisticRegression(n_input)\n",
    "X_train.shape"
   ]
  },
  {
   "cell_type": "code",
   "execution_count": 42,
   "id": "19907be5",
   "metadata": {},
   "outputs": [],
   "source": [
    "criterion = nn.BCELoss()\n",
    "optimizer = torch.optim.SGD(model.parameters(), lr=0.01)"
   ]
  },
  {
   "cell_type": "markdown",
   "id": "f8e255b2",
   "metadata": {},
   "source": [
    "Training loop"
   ]
  },
  {
   "cell_type": "code",
   "execution_count": 43,
   "id": "48ae0f21",
   "metadata": {},
   "outputs": [
    {
     "name": "stdout",
     "output_type": "stream",
     "text": [
      "Epoch: 10/1000, Loss: 0.6295\n",
      "Epoch: 20/1000, Loss: 0.4280\n",
      "Epoch: 30/1000, Loss: 0.3178\n",
      "Epoch: 40/1000, Loss: 0.2772\n",
      "Epoch: 50/1000, Loss: 0.2588\n",
      "Epoch: 60/1000, Loss: 0.2424\n",
      "Epoch: 70/1000, Loss: 0.2224\n",
      "Epoch: 80/1000, Loss: 0.1992\n",
      "Epoch: 90/1000, Loss: 0.1754\n",
      "Epoch: 100/1000, Loss: 0.1534\n",
      "Epoch: 110/1000, Loss: 0.1350\n",
      "Epoch: 120/1000, Loss: 0.1204\n",
      "Epoch: 130/1000, Loss: 0.1091\n",
      "Epoch: 140/1000, Loss: 0.1001\n",
      "Epoch: 150/1000, Loss: 0.0927\n",
      "Epoch: 160/1000, Loss: 0.0866\n",
      "Epoch: 170/1000, Loss: 0.0813\n",
      "Epoch: 180/1000, Loss: 0.0767\n",
      "Epoch: 190/1000, Loss: 0.0726\n",
      "Epoch: 200/1000, Loss: 0.0689\n",
      "Epoch: 210/1000, Loss: 0.0653\n",
      "Epoch: 220/1000, Loss: 0.0620\n",
      "Epoch: 230/1000, Loss: 0.0590\n",
      "Epoch: 240/1000, Loss: 0.0567\n",
      "Epoch: 250/1000, Loss: 0.0551\n",
      "Epoch: 260/1000, Loss: 0.0543\n",
      "Epoch: 270/1000, Loss: 0.0539\n",
      "Epoch: 280/1000, Loss: 0.0540\n",
      "Epoch: 290/1000, Loss: 0.0542\n",
      "Epoch: 300/1000, Loss: 0.0544\n",
      "Epoch: 310/1000, Loss: 0.0546\n",
      "Epoch: 320/1000, Loss: 0.0547\n",
      "Epoch: 330/1000, Loss: 0.0546\n",
      "Epoch: 340/1000, Loss: 0.0543\n",
      "Epoch: 350/1000, Loss: 0.0538\n",
      "Epoch: 360/1000, Loss: 0.0533\n",
      "Epoch: 370/1000, Loss: 0.0527\n",
      "Epoch: 380/1000, Loss: 0.0522\n",
      "Epoch: 390/1000, Loss: 0.0517\n",
      "Epoch: 400/1000, Loss: 0.0514\n",
      "Epoch: 410/1000, Loss: 0.0513\n",
      "Epoch: 420/1000, Loss: 0.0515\n",
      "Epoch: 430/1000, Loss: 0.0519\n",
      "Epoch: 440/1000, Loss: 0.0527\n",
      "Epoch: 450/1000, Loss: 0.0539\n",
      "Epoch: 460/1000, Loss: 0.0553\n",
      "Epoch: 470/1000, Loss: 0.0570\n",
      "Epoch: 480/1000, Loss: 0.0585\n",
      "Epoch: 490/1000, Loss: 0.0599\n",
      "Epoch: 500/1000, Loss: 0.0609\n",
      "Epoch: 510/1000, Loss: 0.0615\n",
      "Epoch: 520/1000, Loss: 0.0616\n",
      "Epoch: 530/1000, Loss: 0.0611\n",
      "Epoch: 540/1000, Loss: 0.0602\n",
      "Epoch: 550/1000, Loss: 0.0588\n",
      "Epoch: 560/1000, Loss: 0.0571\n",
      "Epoch: 570/1000, Loss: 0.0551\n",
      "Epoch: 580/1000, Loss: 0.0529\n",
      "Epoch: 590/1000, Loss: 0.0506\n",
      "Epoch: 600/1000, Loss: 0.0484\n",
      "Epoch: 610/1000, Loss: 0.0463\n",
      "Epoch: 620/1000, Loss: 0.0444\n",
      "Epoch: 630/1000, Loss: 0.0427\n",
      "Epoch: 640/1000, Loss: 0.0413\n",
      "Epoch: 650/1000, Loss: 0.0402\n",
      "Epoch: 660/1000, Loss: 0.0395\n",
      "Epoch: 670/1000, Loss: 0.0390\n",
      "Epoch: 680/1000, Loss: 0.0387\n",
      "Epoch: 690/1000, Loss: 0.0386\n",
      "Epoch: 700/1000, Loss: 0.0386\n",
      "Epoch: 710/1000, Loss: 0.0386\n",
      "Epoch: 720/1000, Loss: 0.0387\n",
      "Epoch: 730/1000, Loss: 0.0387\n",
      "Epoch: 740/1000, Loss: 0.0386\n",
      "Epoch: 750/1000, Loss: 0.0385\n",
      "Epoch: 760/1000, Loss: 0.0382\n",
      "Epoch: 770/1000, Loss: 0.0379\n",
      "Epoch: 780/1000, Loss: 0.0374\n",
      "Epoch: 790/1000, Loss: 0.0369\n",
      "Epoch: 800/1000, Loss: 0.0362\n",
      "Epoch: 810/1000, Loss: 0.0354\n",
      "Epoch: 820/1000, Loss: 0.0345\n",
      "Epoch: 830/1000, Loss: 0.0336\n",
      "Epoch: 840/1000, Loss: 0.0326\n",
      "Epoch: 850/1000, Loss: 0.0317\n",
      "Epoch: 860/1000, Loss: 0.0307\n",
      "Epoch: 870/1000, Loss: 0.0299\n",
      "Epoch: 880/1000, Loss: 0.0291\n",
      "Epoch: 890/1000, Loss: 0.0285\n",
      "Epoch: 900/1000, Loss: 0.0280\n",
      "Epoch: 910/1000, Loss: 0.0277\n",
      "Epoch: 920/1000, Loss: 0.0275\n",
      "Epoch: 930/1000, Loss: 0.0274\n",
      "Epoch: 940/1000, Loss: 0.0274\n",
      "Epoch: 950/1000, Loss: 0.0274\n",
      "Epoch: 960/1000, Loss: 0.0275\n",
      "Epoch: 970/1000, Loss: 0.0275\n",
      "Epoch: 980/1000, Loss: 0.0275\n",
      "Epoch: 990/1000, Loss: 0.0275\n",
      "Epoch: 1000/1000, Loss: 0.0275\n"
     ]
    }
   ],
   "source": [
    "num_epoch = 1000\n",
    "\n",
    "for epoch in range(num_epoch):\n",
    "    \n",
    "    outputs = model(X_train)\n",
    "    loss = criterion(outputs, y_train)\n",
    "\n",
    "    optimizer.zero_grad\n",
    "    loss.backward()\n",
    "    optimizer.step()\n",
    "\n",
    "    if (epoch+1)%10==0:\n",
    "        print(f'Epoch: {epoch+1}/{num_epoch}, Loss: {loss.item():.4f}')"
   ]
  },
  {
   "cell_type": "code",
   "execution_count": 44,
   "id": "30a8fc35",
   "metadata": {},
   "outputs": [
    {
     "name": "stdout",
     "output_type": "stream",
     "text": [
      "Accuracy: 97.45\n"
     ]
    }
   ],
   "source": [
    "with torch.no_grad():\n",
    "    y_pred = model(X_test)\n",
    "    predicted = (y_pred > 0.5).float()\n",
    "    accuracy = (predicted == y_test).float().mean()\n",
    "    print(f'Accuracy: {accuracy.item()*100:.2f}')"
   ]
  }
 ],
 "metadata": {
  "kernelspec": {
   "display_name": "Python 3",
   "language": "python",
   "name": "python3"
  },
  "language_info": {
   "codemirror_mode": {
    "name": "ipython",
    "version": 3
   },
   "file_extension": ".py",
   "mimetype": "text/x-python",
   "name": "python",
   "nbconvert_exporter": "python",
   "pygments_lexer": "ipython3",
   "version": "3.8.20"
  }
 },
 "nbformat": 4,
 "nbformat_minor": 5
}
