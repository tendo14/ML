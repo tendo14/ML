{
 "cells": [
  {
   "cell_type": "markdown",
   "id": "392dc4de",
   "metadata": {},
   "source": [
    "Logistic Regression on the authenticity of bank notes dataset. The dataset can be found here https://archive.ics.uci.edu/ml/datasets/banknote+authentication. "
   ]
  },
  {
   "cell_type": "code",
   "execution_count": 1,
   "id": "9cfb2be1",
   "metadata": {},
   "outputs": [],
   "source": [
    "import pandas as pd\n",
    "import numpy as np"
   ]
  },
  {
   "cell_type": "code",
   "execution_count": 2,
   "id": "49b7a731",
   "metadata": {},
   "outputs": [],
   "source": [
    "df = pd.read_csv(\"C:/Users/adity/Desktop/python/data_banknote_authentication.txt\", header=None, names=['f1', 'f2', 'f3', 'f4', 'label'])"
   ]
  },
  {
   "cell_type": "code",
   "execution_count": 3,
   "id": "7a56bae9",
   "metadata": {},
   "outputs": [],
   "source": [
    "import torch \n",
    "import torch.nn as nn"
   ]
  },
  {
   "cell_type": "code",
   "execution_count": 4,
   "id": "a5b843a0",
   "metadata": {},
   "outputs": [],
   "source": [
    "X = df[['f1', 'f2', 'f3', 'f4']]\n",
    "y = df['label']"
   ]
  },
  {
   "cell_type": "code",
   "execution_count": 5,
   "id": "80c28a07",
   "metadata": {},
   "outputs": [],
   "source": [
    "from sklearn.preprocessing import StandardScaler\n",
    "\n",
    "scaler = StandardScaler()\n",
    "X = scaler.fit_transform(X)\n",
    "\n",
    "y = y.values\n"
   ]
  },
  {
   "cell_type": "code",
   "execution_count": 6,
   "id": "b664a362",
   "metadata": {},
   "outputs": [],
   "source": [
    "from sklearn.model_selection import train_test_split\n",
    "\n",
    "X_train, X_test, y_train, y_test = train_test_split(X, y, test_size=0.2, random_state=1234)\n"
   ]
  },
  {
   "cell_type": "code",
   "execution_count": 7,
   "id": "d7d44891",
   "metadata": {},
   "outputs": [
    {
     "name": "stdout",
     "output_type": "stream",
     "text": [
      "float64\n"
     ]
    },
    {
     "data": {
      "text/plain": [
       "(1097, 4)"
      ]
     },
     "execution_count": 7,
     "metadata": {},
     "output_type": "execute_result"
    }
   ],
   "source": [
    "print(X_train.dtype)\n",
    "X_train.shape"
   ]
  },
  {
   "cell_type": "markdown",
   "id": "8afe2a4c",
   "metadata": {},
   "source": [
    "Converting the float64 datatypes to float32."
   ]
  },
  {
   "cell_type": "code",
   "execution_count": 8,
   "id": "c455b5bd",
   "metadata": {},
   "outputs": [],
   "source": [
    "X_train = torch.tensor(X_train, dtype=torch.float32)\n",
    "X_test = torch.tensor(X_test, dtype=torch.float32)\n",
    "y_train = torch.tensor(y_train, dtype=torch.float32).view(-1, 1)\n",
    "y_test = torch.tensor(y_test, dtype=torch.float32).view(-1, 1)\n",
    "\n"
   ]
  },
  {
   "cell_type": "markdown",
   "id": "3b3f5c65",
   "metadata": {},
   "source": [
    "Creating the model."
   ]
  },
  {
   "cell_type": "code",
   "execution_count": 9,
   "id": "5a2f9ba2",
   "metadata": {},
   "outputs": [],
   "source": [
    "class LogisticRegression(nn.Module):\n",
    "    def __init__(self, n_input_features):\n",
    "        super().__init__()\n",
    "        self.linear = nn.Linear(n_input_features, 1)\n",
    "    \n",
    "    def forward(self, x):\n",
    "        return torch.sigmoid(self.linear(x))"
   ]
  },
  {
   "cell_type": "code",
   "execution_count": 28,
   "id": "b4bc2a61",
   "metadata": {},
   "outputs": [
    {
     "data": {
      "text/plain": [
       "torch.Size([1097, 4])"
      ]
     },
     "execution_count": 28,
     "metadata": {},
     "output_type": "execute_result"
    }
   ],
   "source": [
    "n_input = X_train.shape[1]\n",
    "model = LogisticRegression(n_input)\n",
    "model_relu = LogisticRegressionReLU(n_input)\n",
    "X_train.shape"
   ]
  },
  {
   "cell_type": "code",
   "execution_count": 24,
   "id": "19907be5",
   "metadata": {},
   "outputs": [],
   "source": [
    "criterion = nn.BCELoss()\n",
    "optimizer = torch.optim.SGD(model.parameters(), lr=0.001)"
   ]
  },
  {
   "cell_type": "markdown",
   "id": "f8e255b2",
   "metadata": {},
   "source": [
    "Training loop for sigmoid"
   ]
  },
  {
   "cell_type": "code",
   "execution_count": 25,
   "id": "48ae0f21",
   "metadata": {},
   "outputs": [
    {
     "name": "stdout",
     "output_type": "stream",
     "text": [
      "Epoch: 10/1000, Loss: 0.6447\n",
      "Epoch: 20/1000, Loss: 0.6191\n",
      "Epoch: 30/1000, Loss: 0.5803\n",
      "Epoch: 40/1000, Loss: 0.5336\n",
      "Epoch: 50/1000, Loss: 0.4851\n",
      "Epoch: 60/1000, Loss: 0.4394\n",
      "Epoch: 70/1000, Loss: 0.3990\n",
      "Epoch: 80/1000, Loss: 0.3648\n",
      "Epoch: 90/1000, Loss: 0.3366\n",
      "Epoch: 100/1000, Loss: 0.3133\n",
      "Epoch: 110/1000, Loss: 0.2941\n",
      "Epoch: 120/1000, Loss: 0.2780\n",
      "Epoch: 130/1000, Loss: 0.2643\n",
      "Epoch: 140/1000, Loss: 0.2523\n",
      "Epoch: 150/1000, Loss: 0.2416\n",
      "Epoch: 160/1000, Loss: 0.2318\n",
      "Epoch: 170/1000, Loss: 0.2226\n",
      "Epoch: 180/1000, Loss: 0.2140\n",
      "Epoch: 190/1000, Loss: 0.2058\n",
      "Epoch: 200/1000, Loss: 0.1980\n",
      "Epoch: 210/1000, Loss: 0.1904\n",
      "Epoch: 220/1000, Loss: 0.1832\n",
      "Epoch: 230/1000, Loss: 0.1763\n",
      "Epoch: 240/1000, Loss: 0.1696\n",
      "Epoch: 250/1000, Loss: 0.1633\n",
      "Epoch: 260/1000, Loss: 0.1573\n",
      "Epoch: 270/1000, Loss: 0.1516\n",
      "Epoch: 280/1000, Loss: 0.1463\n",
      "Epoch: 290/1000, Loss: 0.1412\n",
      "Epoch: 300/1000, Loss: 0.1364\n",
      "Epoch: 310/1000, Loss: 0.1318\n",
      "Epoch: 320/1000, Loss: 0.1275\n",
      "Epoch: 330/1000, Loss: 0.1234\n",
      "Epoch: 340/1000, Loss: 0.1196\n",
      "Epoch: 350/1000, Loss: 0.1159\n",
      "Epoch: 360/1000, Loss: 0.1124\n",
      "Epoch: 370/1000, Loss: 0.1092\n",
      "Epoch: 380/1000, Loss: 0.1061\n",
      "Epoch: 390/1000, Loss: 0.1031\n",
      "Epoch: 400/1000, Loss: 0.1003\n",
      "Epoch: 410/1000, Loss: 0.0977\n",
      "Epoch: 420/1000, Loss: 0.0952\n",
      "Epoch: 430/1000, Loss: 0.0929\n",
      "Epoch: 440/1000, Loss: 0.0907\n",
      "Epoch: 450/1000, Loss: 0.0886\n",
      "Epoch: 460/1000, Loss: 0.0867\n",
      "Epoch: 470/1000, Loss: 0.0849\n",
      "Epoch: 480/1000, Loss: 0.0831\n",
      "Epoch: 490/1000, Loss: 0.0815\n",
      "Epoch: 500/1000, Loss: 0.0799\n",
      "Epoch: 510/1000, Loss: 0.0784\n",
      "Epoch: 520/1000, Loss: 0.0770\n",
      "Epoch: 530/1000, Loss: 0.0756\n",
      "Epoch: 540/1000, Loss: 0.0743\n",
      "Epoch: 550/1000, Loss: 0.0730\n",
      "Epoch: 560/1000, Loss: 0.0717\n",
      "Epoch: 570/1000, Loss: 0.0705\n",
      "Epoch: 580/1000, Loss: 0.0693\n",
      "Epoch: 590/1000, Loss: 0.0682\n",
      "Epoch: 600/1000, Loss: 0.0671\n",
      "Epoch: 610/1000, Loss: 0.0660\n",
      "Epoch: 620/1000, Loss: 0.0650\n",
      "Epoch: 630/1000, Loss: 0.0640\n",
      "Epoch: 640/1000, Loss: 0.0631\n",
      "Epoch: 650/1000, Loss: 0.0624\n",
      "Epoch: 660/1000, Loss: 0.0617\n",
      "Epoch: 670/1000, Loss: 0.0612\n",
      "Epoch: 680/1000, Loss: 0.0607\n",
      "Epoch: 690/1000, Loss: 0.0604\n",
      "Epoch: 700/1000, Loss: 0.0602\n",
      "Epoch: 710/1000, Loss: 0.0601\n",
      "Epoch: 720/1000, Loss: 0.0601\n",
      "Epoch: 730/1000, Loss: 0.0602\n",
      "Epoch: 740/1000, Loss: 0.0603\n",
      "Epoch: 750/1000, Loss: 0.0605\n",
      "Epoch: 760/1000, Loss: 0.0607\n",
      "Epoch: 770/1000, Loss: 0.0609\n",
      "Epoch: 780/1000, Loss: 0.0612\n",
      "Epoch: 790/1000, Loss: 0.0615\n",
      "Epoch: 800/1000, Loss: 0.0618\n",
      "Epoch: 810/1000, Loss: 0.0622\n",
      "Epoch: 820/1000, Loss: 0.0625\n",
      "Epoch: 830/1000, Loss: 0.0628\n",
      "Epoch: 840/1000, Loss: 0.0630\n",
      "Epoch: 850/1000, Loss: 0.0633\n",
      "Epoch: 860/1000, Loss: 0.0635\n",
      "Epoch: 870/1000, Loss: 0.0637\n",
      "Epoch: 880/1000, Loss: 0.0638\n",
      "Epoch: 890/1000, Loss: 0.0639\n",
      "Epoch: 900/1000, Loss: 0.0640\n",
      "Epoch: 910/1000, Loss: 0.0640\n",
      "Epoch: 920/1000, Loss: 0.0640\n",
      "Epoch: 930/1000, Loss: 0.0640\n",
      "Epoch: 940/1000, Loss: 0.0639\n",
      "Epoch: 950/1000, Loss: 0.0637\n",
      "Epoch: 960/1000, Loss: 0.0636\n",
      "Epoch: 970/1000, Loss: 0.0633\n",
      "Epoch: 980/1000, Loss: 0.0631\n",
      "Epoch: 990/1000, Loss: 0.0628\n",
      "Epoch: 1000/1000, Loss: 0.0625\n"
     ]
    }
   ],
   "source": [
    "num_epoch = 1000\n",
    "loss_list = []\n",
    "epoch_list = []\n",
    "\n",
    "for epoch in range(num_epoch):\n",
    "    \n",
    "    outputs = model(X_train)\n",
    "    loss = criterion(outputs, y_train)\n",
    "\n",
    "    optimizer.zero_grad\n",
    "    loss.backward()\n",
    "    optimizer.step()\n",
    "\n",
    "    if (epoch+1)%10==0:\n",
    "        print(f'Epoch: {epoch+1}/{num_epoch}, Loss: {loss.item():.4f}')\n",
    "        loss_list.append(loss.item())\n",
    "        epoch_list.append(epoch+1)\n"
   ]
  },
  {
   "cell_type": "code",
   "execution_count": 26,
   "id": "60435c4b",
   "metadata": {},
   "outputs": [
    {
     "data": {
      "image/png": "[encoded data removed]",
      "text/plain": [
       "<Figure size 640x480 with 1 Axes>"
      ]
     },
     "metadata": {},
     "output_type": "display_data"
    }
   ],
   "source": [
    "import matplotlib.pyplot as plt\n",
    "\n",
    "plt.plot(epoch_list, loss_list)\n",
    "plt.xlabel(\"Epochs\")\n",
    "plt.ylabel(\"Loss\")\n",
    "plt.title(\"Loss every 10 Epcohs\")\n",
    "plt.grid(True)\n",
    "plt.show()"
   ]
  },
  {
   "cell_type": "code",
   "execution_count": 27,
   "id": "30a8fc35",
   "metadata": {},
   "outputs": [
    {
     "name": "stdout",
     "output_type": "stream",
     "text": [
      "Accuracy: 98.18\n"
     ]
    }
   ],
   "source": [
    "with torch.no_grad():\n",
    "    y_pred = model(X_test)\n",
    "    predicted = (y_pred > 0.5).float()\n",
    "    accuracy = (predicted == y_test).float().mean()\n",
    "    print(f'Accuracy: {accuracy.item()*100:.2f}')"
   ]
  },
  {
   "cell_type": "code",
   "execution_count": null,
   "id": "24834156",
   "metadata": {},
   "outputs": [],
   "source": []
  }
 ],
 "metadata": {
  "kernelspec": {
   "display_name": "mlenv",
   "language": "python",
   "name": "python3"
  },
  "language_info": {
   "codemirror_mode": {
    "name": "ipython",
    "version": 3
   },
   "file_extension": ".py",
   "mimetype": "text/x-python",
   "name": "python",
   "nbconvert_exporter": "python",
   "pygments_lexer": "ipython3",
   "version": "3.13.5"
  }
 },
 "nbformat": 4,
 "nbformat_minor": 5
}
